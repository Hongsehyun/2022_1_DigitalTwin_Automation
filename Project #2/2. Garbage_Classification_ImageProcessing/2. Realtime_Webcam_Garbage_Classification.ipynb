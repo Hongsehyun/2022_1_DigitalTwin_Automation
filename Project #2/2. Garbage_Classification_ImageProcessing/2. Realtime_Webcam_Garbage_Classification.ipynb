{
 "cells": [
  {
   "cell_type": "markdown",
   "id": "f60c9b9a",
   "metadata": {},
   "source": [
    "### Import Libraries"
   ]
  },
  {
   "cell_type": "code",
   "execution_count": 1,
   "id": "be13d0f3",
   "metadata": {},
   "outputs": [],
   "source": [
    "# Add libraries freely, if you need.\n",
    "import numpy as np\n",
    "import pandas as pd\n",
    "import matplotlib.pyplot as plt\n",
    "import matplotlib\n",
    "import warnings\n",
    "warnings.filterwarnings('ignore')"
   ]
  },
  {
   "cell_type": "code",
   "execution_count": 2,
   "id": "f1b696c2",
   "metadata": {},
   "outputs": [],
   "source": [
    "import cv2 as cv\n",
    "from cv2 import * \n",
    "\n",
    "import fastai\n",
    "import tensorflow as tf\n",
    "\n",
    "import time"
   ]
  },
  {
   "cell_type": "markdown",
   "id": "8142730e",
   "metadata": {},
   "source": [
    "### Version Checking"
   ]
  },
  {
   "cell_type": "code",
   "execution_count": 3,
   "id": "0d043445",
   "metadata": {},
   "outputs": [
    {
     "data": {
      "text/plain": [
       "'4.5.5'"
      ]
     },
     "execution_count": 3,
     "metadata": {},
     "output_type": "execute_result"
    },
    {
     "data": {
      "text/plain": [
       "'4.5.5'"
      ]
     },
     "execution_count": 3,
     "metadata": {},
     "output_type": "execute_result"
    }
   ],
   "source": [
    "cv.__version__"
   ]
  },
  {
   "cell_type": "code",
   "execution_count": 4,
   "id": "80cdc3bf",
   "metadata": {},
   "outputs": [
    {
     "name": "stdout",
     "output_type": "stream",
     "text": [
      "1.0.61\n",
      "1.0.61\n"
     ]
    }
   ],
   "source": [
    "print(fastai.__version__)"
   ]
  },
  {
   "cell_type": "markdown",
   "id": "afa1ce88",
   "metadata": {},
   "source": [
    "***"
   ]
  },
  {
   "cell_type": "markdown",
   "id": "0d8e3036",
   "metadata": {},
   "source": [
    "### Function Define"
   ]
  },
  {
   "cell_type": "code",
   "execution_count": 5,
   "id": "1a15743f",
   "metadata": {},
   "outputs": [],
   "source": [
    "def DeleteAllFiles(filePath):\n",
    "    if os.path.exists(filePath):\n",
    "        for file in os.scandir(filePath):\n",
    "            os.remove(file.path)\n",
    "        return 'Remove All File'\n",
    "    else:\n",
    "        return 'Directory Not Found'"
   ]
  },
  {
   "cell_type": "markdown",
   "id": "e5133f5e",
   "metadata": {},
   "source": [
    "### Path Define"
   ]
  },
  {
   "cell_type": "code",
   "execution_count": 6,
   "id": "57a566a3",
   "metadata": {},
   "outputs": [
    {
     "data": {
      "text/plain": [
       "WindowsPath('C:/Users/sehye/source/repos/GitHub_DeskTop/2022-1_DTA_Garbage_Classification/2. Three_Class_Garbage_Classification/data')"
      ]
     },
     "execution_count": 6,
     "metadata": {},
     "output_type": "execute_result"
    },
    {
     "data": {
      "text/plain": [
       "WindowsPath('C:/Users/sehye/source/repos/GitHub_DeskTop/2022-1_DTA_Garbage_Classification/2. Three_Class_Garbage_Classification/data')"
      ]
     },
     "execution_count": 6,
     "metadata": {},
     "output_type": "execute_result"
    }
   ],
   "source": [
    "from fastai.vision import *\n",
    "from pathlib import Path\n",
    "\n",
    "path = Path(os.getcwd())      # dir = Path(dir_name)\n",
    "path = path/\"data\"            # file = dir / sub_dir_name / file_name     즉, '/'를 통해 파일을 하나하나 들어갈 수 있다.\n",
    "path"
   ]
  },
  {
   "cell_type": "markdown",
   "id": "86031d13",
   "metadata": {},
   "source": [
    "***"
   ]
  },
  {
   "cell_type": "markdown",
   "id": "cfc40c03",
   "metadata": {},
   "source": [
    "### Open Cam & Object Tracking Detecting"
   ]
  },
  {
   "cell_type": "code",
   "execution_count": 7,
   "id": "70bd7398",
   "metadata": {},
   "outputs": [],
   "source": [
    "# pip install --user opencv-contrib-python\n",
    "x_idx = []\n",
    "y_idx = []\n",
    "\n",
    "\n",
    "# 플로 결과 그리기 + 물체 Tracking하며 중심좌표 출력하기\n",
    "def drawFlow(img, flow, step=10):                                                  # step = 그리드 한 칸 한 칸의 간격 지정\n",
    "    h, w = img.shape[:2]\n",
    "    flag = 0\n",
    "    x_center = 0\n",
    "    y_center = 0\n",
    "    \n",
    "    # 10픽셀 간격의 그리드 인덱스 구하기\n",
    "    idx_y, idx_x = np.mgrid[step/2 : h : step , step/2 : w : step].astype(np.int) \n",
    "    indices = np.stack((idx_x, idx_y), axis=-1).reshape(-1, 2)                    # 각 포인트의 좌표를 모두 생성\n",
    "    \n",
    "    \n",
    "    # 인덱스 순회\n",
    "    for x, y in indices:\n",
    "        # 각 그리드 인덱스 위치에 점 그리기\n",
    "        cv.circle(img, (x, y), 1, (0, 212, 255), 1)                                 # img, center, radius, color, thickness\n",
    "\n",
    "        # 각 그리드 인덱스에 해당하는 플로 결과 값(이동 거리)\n",
    "        dx, dy = flow[y, x].astype(np.int)\n",
    "        \n",
    "        # Thres Val [1] - 충분히 이동하였는가 :: 노이즈, 먼지 등을 탐지하는 경우를 1차로 방지!\n",
    "        if dx > 5 or dx < -5 or dy > 5 or dy < -5:           \n",
    "            x_idx.append(x)                                \n",
    "            y_idx.append(y)\n",
    "            \n",
    "            x_center = sum(x_idx)/len(x_idx)                                    \n",
    "            y_center = sum(y_idx)/len(y_idx)\n",
    "            \n",
    "        # 각 그리드 인덱스 위치에서 이동한 거리만큼 선 그리기\n",
    "        cv.line(img, (x, y), (x+dx, y+dy), (0, 212, 255), 2, cv.LINE_AA)              # img, center, radius, color, thickness\n",
    "    \n",
    "    \n",
    "    # Thres Val [2] - 물체가 실존하는가 :: 노이즈, 먼지 등을 탐지하는 경우를 2차로 방지!\n",
    "    if len(x_idx)>15 and len(y_idx)>15 and x_center > 400:                                     \n",
    "\n",
    "        print('x_center: {},   y_center: {}\\n'.format(x_center, y_center))\n",
    "        flag = 1\n",
    "    \n",
    "    \n",
    "    return flag, x_center, y_center"
   ]
  },
  {
   "cell_type": "code",
   "execution_count": 8,
   "id": "cad1e261",
   "metadata": {},
   "outputs": [
    {
     "name": "stdout",
     "output_type": "stream",
     "text": [
      "x_center: 488.3333333333333,   y_center: 189.44444444444446\n",
      "\n",
      "Remove All File\n",
      "Remove All File\n",
      "x_center: 488.3333333333333,   y_center: 189.44444444444446\n",
      "\n",
      "Remove All File\n",
      "Remove All File\n",
      "predict = plastic\n",
      "\n",
      "\n",
      "predict = plastic\n",
      "\n",
      "\n"
     ]
    }
   ],
   "source": [
    "prev   = None # 이전 프레임 저장 변수\n",
    "\n",
    "# When use other Camera\n",
    "# cap   = cv.VideoCapture(1)\n",
    "\n",
    "# When use Notebook Local Webcam Camera\n",
    "cap   = cv.VideoCapture(0)\n",
    "\n",
    "\n",
    "bFlip = 0\n",
    "flag  = 0\n",
    "x_center = 0\n",
    "y_center = 0\n",
    "\n",
    "    \n",
    "model_file_name = 'garbage_classification_model'\n",
    "\n",
    "\n",
    "while cap.isOpened():\n",
    "    ret, frame  =  cap.read()\n",
    "    frame       = cv.resize(frame,(600,300))\n",
    "    \n",
    "    frame_src       =  cv.flip(frame, 1)\n",
    "    frame_dst       =  cv.flip(frame, 1)\n",
    "    \n",
    "    cv.putText(frame_dst, 'Cam ON', (10, 55), cv.FONT_HERSHEY_PLAIN, 2, (0, 0, 255), 2)\n",
    "    cv.putText(frame_dst, '100', (100, 290), cv.FONT_HERSHEY_PLAIN, 1, (0, 0, 255), 1)\n",
    "    cv.putText(frame_dst, '200', (200, 290), cv.FONT_HERSHEY_PLAIN, 1, (0, 0, 255), 1)\n",
    "    cv.putText(frame_dst, '300', (300, 290), cv.FONT_HERSHEY_PLAIN, 1, (0, 0, 255), 1)\n",
    "    cv.putText(frame_dst, '400', (400, 290), cv.FONT_HERSHEY_PLAIN, 1, (0, 0, 255), 1)\n",
    "    cv.putText(frame_dst, '500', (500, 290), cv.FONT_HERSHEY_PLAIN, 1, (0, 0, 255), 1)\n",
    "    \n",
    "    cv.putText(frame_dst, '100', (20, 100), cv.FONT_HERSHEY_PLAIN, 1, (0, 0, 255), 1)\n",
    "    cv.putText(frame_dst, '200', (20, 200), cv.FONT_HERSHEY_PLAIN, 1, (0, 0, 255), 1)\n",
    "    \n",
    "    \n",
    "    x_idx = []\n",
    "    y_idx = []\n",
    "    max_idxs_li = []\n",
    "    yhat = []\n",
    "    y = []\n",
    "  \n",
    "\n",
    "    if not ret:\n",
    "        break\n",
    "\n",
    "    gray   = cv.cvtColor(frame_src, cv.COLOR_BGR2GRAY)\n",
    "    gray   = cv.blur(gray,(11,11))\n",
    "    \n",
    "    # 최초 프레임의 경우\n",
    "    if prev is None:\n",
    "        prev = gray # 첫 이전 프레임\n",
    "        \n",
    "    else:\n",
    "        # 이전, 이후 프레임으로 옵티컬 플로 계산\n",
    "        flow = cv.calcOpticalFlowFarneback(prev, gray, None, 0.5, 3, 15, 3, 5, 1.1, cv.OPTFLOW_FARNEBACK_GAUSSIAN)\n",
    "               # input array prev, input array next, input ouput array, pyramid scale, levels, window size, iterations, poly_n, poly_sigma, flags\n",
    "        \n",
    "        # 계산 결과 그리기, 선언한 함수 호출\n",
    "        flag, x_center, y_center = drawFlow(frame_dst, flow)\n",
    "\n",
    "        # 다음 프레임을 위해 이월\n",
    "        prev = gray\n",
    "\n",
    "    \n",
    "    # When object Detected\n",
    "    if flag == 1:\n",
    "        # Folder Clearing\n",
    "        cv.putText(frame_dst, 'Detected!', (210, 55), cv.FONT_HERSHEY_PLAIN, 2, (0, 0, 255), 2)\n",
    "        \n",
    "        print(DeleteAllFiles('data/test_realtime'))\n",
    "        print(DeleteAllFiles('RealTime_Test_Image'))\n",
    "        \n",
    "        # Get Cam Image and Resizing\n",
    "        cv.imwrite(\"RealTime_Test_Image/test_image.jpg\",frame_src)\n",
    "        src = cv.imread('RealTime_Test_Image/test_image.jpg')\n",
    "        dst = cv.resize(src, dsize=(512, 384), interpolation=cv.INTER_AREA)\n",
    "        cv.imwrite('data/test_realtime/test_image.jpg', dst)\n",
    "        \n",
    "        flag = 2\n",
    "    \n",
    "    \n",
    "    # Predict\n",
    "    if flag == 2:\n",
    "        # Test Data Define\n",
    "        data = ImageDataBunch.from_folder(path, test=\"test_realtime\")\n",
    "        \n",
    "        # Model Define (Get Pre-Trained Model)\n",
    "        learn = cnn_learner(data, models.resnet34, metrics=error_rate)\n",
    "        learn.load(model_file_name)\n",
    "        \n",
    "        img = learn.data.test_ds[0][0]\n",
    "        \n",
    "        # Predict Test Data\n",
    "        preds = learn.predict(img)\n",
    "        \n",
    "        max_idxs = np.argmax(preds[2])\n",
    "        max_idxs = np.array(max_idxs)\n",
    "        max_idxs_li.append(max_idxs)\n",
    "        \n",
    "        # 부여된 번호를 토대로 class의 이름을 부여\n",
    "        yhat.append(data.classes[max_idxs])\n",
    "        \n",
    "        # 출력\n",
    "        print(\"predict = {}\\n\\n\".format(yhat[0]))\n",
    "        cv.putText(frame_dst, yhat[0], (410, 55), cv.FONT_HERSHEY_PLAIN, 2, (0, 0, 255), 2)\n",
    "        cv.putText(frame_src, yhat[0], (410, 55), cv.FONT_HERSHEY_PLAIN, 2, (0, 0, 255), 2)\n",
    "        flag = 0\n",
    "        time.sleep(3)\n",
    "    \n",
    "    \n",
    "    # Cam Printing\n",
    "    cv.imshow('OpticalFlow-Farneback', frame_dst)\n",
    "    cv.imshow('Original_Cam', frame_src)\n",
    "    \n",
    "    \n",
    "    # Break Cam when ESC Pushed\n",
    "    k = cv.waitKey(5) & 0xFF\n",
    "    if k == 27:\n",
    "        break\n",
    "\n",
    "cap.release()\n",
    "cv.destroyAllWindows()"
   ]
  },
  {
   "cell_type": "markdown",
   "id": "a61bd67f",
   "metadata": {},
   "source": [
    "***"
   ]
  }
 ],
 "metadata": {
  "kernelspec": {
   "display_name": "Python 3 (ipykernel)",
   "language": "python",
   "name": "python3"
  },
  "language_info": {
   "codemirror_mode": {
    "name": "ipython",
    "version": 3
   },
   "file_extension": ".py",
   "mimetype": "text/x-python",
   "name": "python",
   "nbconvert_exporter": "python",
   "pygments_lexer": "ipython3",
   "version": "3.9.7"
  }
 },
 "nbformat": 4,
 "nbformat_minor": 5
}
