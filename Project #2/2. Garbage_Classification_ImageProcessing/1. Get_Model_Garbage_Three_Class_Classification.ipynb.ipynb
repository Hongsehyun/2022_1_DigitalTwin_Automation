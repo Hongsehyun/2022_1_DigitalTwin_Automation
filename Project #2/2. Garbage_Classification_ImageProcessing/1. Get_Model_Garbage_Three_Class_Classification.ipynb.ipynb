{
 "cells": [
  {
   "cell_type": "markdown",
   "metadata": {},
   "source": [
    "### Import Libraries"
   ]
  },
  {
   "cell_type": "code",
   "execution_count": 1,
   "metadata": {
    "id": "lXLIEEKRS-6-"
   },
   "outputs": [],
   "source": [
    "# Add libraries freely, if you need.\n",
    "import numpy as np\n",
    "import pandas as pd\n",
    "import matplotlib.pyplot as plt\n",
    "import matplotlib\n",
    "import warnings\n",
    "warnings.filterwarnings('ignore')"
   ]
  },
  {
   "cell_type": "code",
   "execution_count": 2,
   "metadata": {
    "id": "rmBOO3q9TAYF"
   },
   "outputs": [],
   "source": [
    "import cv2 as cv\n",
    "from cv2 import * \n",
    "\n",
    "import os\n",
    "import fastai\n",
    "import torch"
   ]
  },
  {
   "cell_type": "markdown",
   "metadata": {},
   "source": [
    "### Version Checking"
   ]
  },
  {
   "cell_type": "code",
   "execution_count": 3,
   "metadata": {
    "colab": {
     "base_uri": "https://localhost:8080/"
    },
    "id": "ZSHNLcMWA9eg",
    "outputId": "0754c409-fe15-4bb9-a4a5-ead7821f259b"
   },
   "outputs": [
    {
     "data": {
      "text/plain": [
       "'4.5.5'"
      ]
     },
     "execution_count": 3,
     "metadata": {},
     "output_type": "execute_result"
    }
   ],
   "source": [
    "cv.__version__"
   ]
  },
  {
   "cell_type": "code",
   "execution_count": 4,
   "metadata": {
    "colab": {
     "base_uri": "https://localhost:8080/",
     "height": 35
    },
    "id": "0AMSV8V_CBSX",
    "outputId": "cca0d5ec-2b33-4fa6-98da-55a9269599de"
   },
   "outputs": [
    {
     "name": "stdout",
     "output_type": "stream",
     "text": [
      "1.11.0\n"
     ]
    }
   ],
   "source": [
    "print(torch.__version__)"
   ]
  },
  {
   "cell_type": "code",
   "execution_count": 5,
   "metadata": {},
   "outputs": [
    {
     "name": "stdout",
     "output_type": "stream",
     "text": [
      "1.0.61\n"
     ]
    }
   ],
   "source": [
    "print(fastai.__version__)"
   ]
  },
  {
   "cell_type": "markdown",
   "metadata": {},
   "source": [
    "### Local GPU Setting"
   ]
  },
  {
   "cell_type": "code",
   "execution_count": 7,
   "metadata": {},
   "outputs": [
    {
     "name": "stdout",
     "output_type": "stream",
     "text": [
      "Using cuda device\n",
      "device name: NVIDIA GeForce RTX 3060 Laptop GPU\n"
     ]
    }
   ],
   "source": [
    "# Get cpu or gpu device for training.\n",
    "device = \"cuda\" if torch.cuda.is_available() else \"cpu\"\n",
    "\n",
    "print(f\"Using {device} device\")\n",
    "if torch.cuda.is_available(): print(f'device name: {torch.cuda.get_device_name(0)}')"
   ]
  },
  {
   "cell_type": "markdown",
   "metadata": {
    "id": "Z3BYed-hTBie"
   },
   "source": [
    "-------------------------------------------------------------------------------------------"
   ]
  },
  {
   "cell_type": "markdown",
   "metadata": {},
   "source": [
    "### Function Define"
   ]
  },
  {
   "cell_type": "code",
   "execution_count": 8,
   "metadata": {},
   "outputs": [],
   "source": [
    "# train, valid, test 구조로 분할하는 함수\n",
    "def split_indices(folder,seed1,seed2):    \n",
    "    n = len(os.listdir(folder))        # 반환된 입력 경로 내의 모든 파일과 폴더의 갯수 파악 \n",
    "    full_set = list(range(1,n+1))      # 반환된 입력 경로 내의 모든 파일과 폴더의 갯수에 대응되는 List index 생성.\n",
    "                                       # 만약, 폴더 내에 5개의 파일이 존재했다면   full_set = [1,2,3,4,5] 가 될 것이다.\n",
    "\n",
    "\n",
    "    # train 인덱싱(=Train Data로 사용할 데이터의 번호를 뽑아오는 과정)\n",
    "    random.seed(seed1)                 # 시드를 고정시켜서 난수값이 동일하게 유지될 수 있도록 한다.\n",
    "                                       # 즉, random.seed()    로 실항해면 매번 실행할 때마다 난수값이 바뀌지만\n",
    "                                       #     random.seed(100) 이와 같이 시드를 고정시키면 처음 생성된 난수 값이 다음에 random.seed(100)이렇게 호출하여도 동일한 값이 나온다.\n",
    "    train = random.sample(list(range(1,n+1)), int(.8*n))   # random.sample(seq, k)  임의로 선택하거나, 뒤섞거나, 샘플링하는 코드.\n",
    "                                                           # sequence: 리스트, 집합, range() 등 random의 범위가 될 sequence 입력\n",
    "                                                           # k:        반환될 리스트의 크기 입력\n",
    "                                                           # 전체에서 80%의 Dataset을 train data로 indexing한다. \n",
    "    remain = list(set(full_set)-set(train))   # 변수 타입을 'set' 집합 형태로 바꾸어 빼기 연산을 수행한 뒤에 다시 List Type으로 반환\n",
    "                                              # Set Type = 순서가 없고 중복이 허용되지 않는 집합\n",
    "\n",
    "\n",
    "    # valid 인덱싱(=Validation Data로 사용할 데이터의 번호를 뽑아오는 과정)\n",
    "    # test 인덱싱(=Test Data로 사용할 데이터의 번호를 뽑아오는 과정)\n",
    "    random.seed(seed2)\n",
    "    valid = random.sample(remain, int(len(remain)))        # 전체에서 Train을 빼고 남은 20%를 valid data로 indexing한다. \n",
    "    \n",
    "    return(train,valid)"
   ]
  },
  {
   "cell_type": "code",
   "execution_count": 9,
   "metadata": {},
   "outputs": [],
   "source": [
    "# 인덱싱에 따라 파일 이름을 구하기   -> split_indices 함수를 통해 Train/Validation/Test의 Index를 구했다면,\n",
    "#                                       get_names     함수를 통해 Train/Validation/Test로 사용할 이미지의 Full Name을 모두 뽑아서 저장해준다.\n",
    "#                                   즉, waste_type 에는 List형태의 ['plastic', 'metal', ''paper' ...] 이 입력으로 들어갈 것이며\n",
    "#                                   즉, indices    에는 List형태의 [1, 3, 7, 20, 56, ...] 인덱스 번호가 입력으로 들어갈 것이다.\n",
    "def get_names(waste_type, indices):\n",
    "    file_names = [waste_type+str(i)+\".jpg\" for i in indices]\n",
    "    return(file_names)"
   ]
  },
  {
   "cell_type": "code",
   "execution_count": 10,
   "metadata": {},
   "outputs": [],
   "source": [
    "# 파일의 위치를 옮기는 함수          -> move_files 함수를 통해 destination_folder 에 Train/Validation/Test Data로 사용할 Image Data들을 하나하나 for문을 통해 옮겨주도록 한다.\n",
    "def move_files(source_files, destination_folder):\n",
    "    for file in source_files:\n",
    "        shutil.move(file, destination_folder)"
   ]
  },
  {
   "cell_type": "code",
   "execution_count": 11,
   "metadata": {},
   "outputs": [],
   "source": [
    "# 지정해준 경로의 폴더 안에 존재하는 모든 파일 삭제하는 함수 정의\n",
    "def DeleteAllFiles(filePath):\n",
    "    if os.path.exists(filePath):\n",
    "        for file in os.scandir(filePath):\n",
    "            os.remove(file.path)\n",
    "        return 'Remove All File'\n",
    "    else:\n",
    "        return 'Directory Not Found'"
   ]
  },
  {
   "cell_type": "markdown",
   "metadata": {},
   "source": [
    "***"
   ]
  },
  {
   "cell_type": "markdown",
   "metadata": {},
   "source": [
    "### Data Loading & Unzip Kaggle Dataset"
   ]
  },
  {
   "cell_type": "code",
   "execution_count": 12,
   "metadata": {
    "id": "koVaTMS76ssd"
   },
   "outputs": [],
   "source": [
    "# zip 파일의 모든 파일과 폴더를 현재 작업 디렉터리로 압축 해제\n",
    "import zipfile as zf\n",
    "\n",
    "files = zf.ZipFile(\"dataset_fit.zip\", 'r')   # 압축 해체/생성 할 File 지정\n",
    "files.extractall()                           # 압축 해체/생성 진행! 만약, 특정 위치에 압축을 진행하고 싶다면 files.extractall(\"/content/driver/MyDrive/\") 이런식으로 작성하면 된다.       \n",
    "files.close()                                # 압축 해제/생성 종료 후, 파일 닫기까지 진행"
   ]
  },
  {
   "cell_type": "code",
   "execution_count": 13,
   "metadata": {
    "colab": {
     "base_uri": "https://localhost:8080/"
    },
    "id": "2MZNU91m49NS",
    "outputId": "6964f95a-1e3e-4e4d-8968-649aa008d84f"
   },
   "outputs": [
    {
     "data": {
      "text/plain": [
       "['cardboard', 'metal', 'plastic']"
      ]
     },
     "execution_count": 13,
     "metadata": {},
     "output_type": "execute_result"
    }
   ],
   "source": [
    "# 압축 파일 내의 모든 파일과 폴더명 리스트 반환\n",
    "import os\n",
    "os.getcwd()                                            # os.getcwd()    : 현재 작업 디렉토리 확인\n",
    "os.path.join(os.getcwd(), \"dataset_fit\")               # os.path.join() : 파일명과 경로를 합치기\n",
    "os.listdir(os.path.join(os.getcwd(), \"dataset_fit\"))   # os.listdir()   : 입력 경로 내의 모든 파일과 폴더명 리스트 반환"
   ]
  },
  {
   "cell_type": "markdown",
   "metadata": {},
   "source": [
    "***"
   ]
  },
  {
   "cell_type": "markdown",
   "metadata": {},
   "source": [
    "### Split Train/Validation Data"
   ]
  },
  {
   "cell_type": "code",
   "execution_count": 15,
   "metadata": {
    "id": "iConZmnrHDLt"
   },
   "outputs": [],
   "source": [
    "import random\n",
    "import shutil\n",
    "\n",
    "# 데이터 종류 / 쓰레기 타입 설정\n",
    "subsets     = ['train','valid']\n",
    "waste_types = ['cardboard', 'metal', 'plastic']\n",
    "\n",
    "\n",
    "# data/데이터 종류/쓰레기 타입 디렉토리가 존재하지 않으면 폴더를 생성한다.\n",
    "for subset in subsets:\n",
    "    for waste_type in waste_types:\n",
    "        folder = os.path.join('data', subset, waste_type)   # os.path.join() : 파일명과 경로를 합치기\n",
    "                                                            # 즉,   data/train/metal   data/train/plastic   data/valid/metal 등의 경로를 여기서 지정하고 folder라는 변수에 해당 경로를 저장한다.\n",
    "\n",
    "        if not os.path.exists(folder):                      # 만약, folder에 저장된 경로와 동일한 경로가 존재하지 않는다면\n",
    "            os.makedirs(folder)                             # os.makedirs(folder) 함수를 통해, folder에 저장된 경로를 똑같이 만들어 준다!\n",
    "                                                            # os.makedirs(folder) 함수는 './a/b/c' 처럼 원하는 만큼 디렉토리를 생성할 수 있는 것이 큰 장점이다.\n",
    "\n",
    "\n",
    "\n",
    "# Test를 할때는 임의의 data에 대해 해당 data가 plastic인지, metal인지를 구분해야 하기 때문에 test data에 대해서는 쓰레기 타입 폴더를 따로 지정하지 않아야 한다.\n",
    "# 즉, Test폴더는 쓰레기 타입 디렉토리가 포함되지 않으므로 다음과 같이 폴더를 따로 생성해준다.\n",
    "if not os.path.exists(os.path.join('data','test')):\n",
    "    os.makedirs(os.path.join('data','test'))\n",
    "\n",
    "if not os.path.exists(os.path.join('data','test_realtime')):\n",
    "    os.makedirs(os.path.join('data','test_realtime'))\n",
    "\n",
    "    \n",
    "# 이 코드를 실행하면 작업창에 data/train/metal 등과 같은 빈 폴더들이 생겨있음을 확인할 수 있다."
   ]
  },
  {
   "cell_type": "code",
   "execution_count": 16,
   "metadata": {
    "id": "mKV1bs39HHR1"
   },
   "outputs": [],
   "source": [
    "# 각 쓰레기 타입별로 \n",
    "for waste_type in waste_types:\n",
    "    source_folder = os.path.join('dataset_fit', waste_type)              # os.path.join() : 파일명과 경로를 합치기\n",
    "    train_ind, valid_ind = split_indices(source_folder,1,1)              # seed는 seed1과 seed2 모두 '1'로 고정하였으며, 이 코드를 통해서 train/valid/test 로 사용할 index를 waste_type에 따라서 각각 가져온다.\n",
    "                                                                         # 즉, plastic 에 대해서 train/valid/test 로 사용할 index\n",
    "                                                                         #     metal   에 대해서 train/valid/test 로 사용할 index 등 각각 가져오는 것!\n",
    "\n",
    "    # 파일들을 train 폴더로 옮김\n",
    "    train_names = get_names(waste_type,train_ind)                                   # Train Data로 사용할 사진들의 Full Name을 waste_type에 따라서 각각 가져온다.\n",
    "    train_source_files = [os.path.join(source_folder,name) for name in train_names] # Train Data로 사용할 사진들의 경로를 waste_type에 따라서 각각 가져온다.\n",
    "    move_files(train_source_files, \"data/train/\" + waste_type)                      # Train Data로 사용할 사진들을 종류에 맞게 \"data/train/plastic\"  \"data/train/metal\"  \"data/train/cardboard\"로 각각 옮겨 준다.\n",
    "    \n",
    "    # 파일들을 valid 폴더로 옮김\n",
    "    valid_names = get_names(waste_type,valid_ind)                                   # Valid Data로 사용할 사진들의 Full Name을 waste_type에 따라서 각각 가져온다.\n",
    "    valid_source_files = [os.path.join(source_folder,name) for name in valid_names] # Valid Data로 사용할 사진들의 경로를 waste_type에 따라서 각각 가져온다.\n",
    "    move_files(valid_source_files, \"data/valid/\" + waste_type)                      # Valid Data로 사용할 사진들을 종류에 맞게 \"data/valid/plastic\"  \"data/valid/metal\"  \"data/valid/cardboard\"로 각각 옮겨 준다."
   ]
  },
  {
   "cell_type": "code",
   "execution_count": 17,
   "metadata": {
    "colab": {
     "base_uri": "https://localhost:8080/"
    },
    "id": "Ej5ESS0lTIi6",
    "outputId": "24548f44-70a5-4a59-f16e-b5c2ea8fe455"
   },
   "outputs": [
    {
     "data": {
      "text/plain": [
       "WindowsPath('C:/Users/sehye/source/repos/GitHub_DeskTop/2022-1_DTA_Garbage_Classification/2. Three_Class_Garbage_Classification/data')"
      ]
     },
     "execution_count": 17,
     "metadata": {},
     "output_type": "execute_result"
    }
   ],
   "source": [
    "# Fastai Library Import :: Fastai는 PyTorch를 기반으로 한 딥러닝 라이브러리\n",
    "from fastai.vision import *\n",
    "  \n",
    "path = Path(os.getcwd())      # dir = Path(dir_name)\n",
    "path = path/\"data\"            # file = dir / sub_dir_name / file_name     즉, '/'를 통해 파일을 하나하나 들어갈 수 있다.\n",
    "path"
   ]
  },
  {
   "cell_type": "markdown",
   "metadata": {},
   "source": [
    "### Folder Clearing & Test Image Define and Resize"
   ]
  },
  {
   "cell_type": "code",
   "execution_count": 18,
   "metadata": {},
   "outputs": [
    {
     "name": "stdout",
     "output_type": "stream",
     "text": [
      "Remove All File\n"
     ]
    }
   ],
   "source": [
    "# data/test 폴더 안에 존재하는 모든 파일 삭제\n",
    "print(DeleteAllFiles('data/test'))"
   ]
  },
  {
   "cell_type": "code",
   "execution_count": 19,
   "metadata": {},
   "outputs": [],
   "source": [
    "file_list     = os.listdir('Random_Test_Image')   # Input_Image 폴더 내 모든 파일 이름 가져오기\n",
    "\n",
    "\n",
    "# 습득한 이미지 데이터를 학습할 수 있는 크기의 이미로 Resize하는 과정\n",
    "# Random_Test_Image 폴더에 존재하는 모든 사진을 Resize한 뒤에 data/test 폴더에 저장해준다.\n",
    "for file in file_list:\n",
    "    src = cv.imread('Random_Test_Image/' + file)\n",
    "    dst = cv.resize(src, dsize=(512, 384), interpolation=cv.INTER_AREA)\n",
    "    \n",
    "    cv.imwrite('data/test/' + file, dst)"
   ]
  },
  {
   "cell_type": "markdown",
   "metadata": {},
   "source": [
    "### Data Transform"
   ]
  },
  {
   "cell_type": "code",
   "execution_count": 20,
   "metadata": {
    "id": "Z1HIbEL3HX7L"
   },
   "outputs": [],
   "source": [
    "# Fastai의 get_transforms 함수 :: 데이터를 좌우로 반전시키거나 밝기를 조절한다던가 회전시킨다던가 등의 역할을 하며 이를 통해 하나의 이미지 데이터라도 다양하고 복잡하게 학습할 수 있다.\n",
    "# Fastai의 get_transforms 함수 :: Hyper-Parameter 설명\n",
    "#       do_flip   : if True the image is randomly flipped (default behavior)\n",
    "#       flip_vert : limit the flips to horizontal flips (when False) or to horizontal and vertical flips as well as 90-degrees rotations (when True)\n",
    "tfms = get_transforms(do_flip=True, flip_vert=True)"
   ]
  },
  {
   "cell_type": "code",
   "execution_count": 21,
   "metadata": {
    "colab": {
     "base_uri": "https://localhost:8080/"
    },
    "id": "9Wmr7gbnWhTb",
    "outputId": "e9dbece2-3433-4f9f-8b4d-79fc97c3945e"
   },
   "outputs": [
    {
     "data": {
      "text/plain": [
       "ImageDataBunch;\n",
       "\n",
       "Train: LabelList (1035 items)\n",
       "x: ImageList\n",
       "Image (3, 384, 512),Image (3, 384, 512),Image (3, 384, 512),Image (3, 384, 512),Image (3, 384, 512)\n",
       "y: CategoryList\n",
       "cardboard,cardboard,cardboard,cardboard,cardboard\n",
       "Path: C:\\Users\\sehye\\source\\repos\\GitHub_DeskTop\\2022-1_DTA_Garbage_Classification\\2. Three_Class_Garbage_Classification\\data;\n",
       "\n",
       "Valid: LabelList (260 items)\n",
       "x: ImageList\n",
       "Image (3, 384, 512),Image (3, 384, 512),Image (3, 384, 512),Image (3, 384, 512),Image (3, 384, 512)\n",
       "y: CategoryList\n",
       "cardboard,cardboard,cardboard,cardboard,cardboard\n",
       "Path: C:\\Users\\sehye\\source\\repos\\GitHub_DeskTop\\2022-1_DTA_Garbage_Classification\\2. Three_Class_Garbage_Classification\\data;\n",
       "\n",
       "Test: LabelList (10 items)\n",
       "x: ImageList\n",
       "Image (3, 384, 512),Image (3, 384, 512),Image (3, 384, 512),Image (3, 384, 512),Image (3, 384, 512)\n",
       "y: EmptyLabelList\n",
       ",,,,\n",
       "Path: C:\\Users\\sehye\\source\\repos\\GitHub_DeskTop\\2022-1_DTA_Garbage_Classification\\2. Three_Class_Garbage_Classification\\data"
      ]
     },
     "execution_count": 21,
     "metadata": {},
     "output_type": "execute_result"
    }
   ],
   "source": [
    "# Fastai의 ImageDataBunch 함수 :: If you quickly want to get a ImageDataBunch and train a model, you should process your data to have it in one of the formats the following functions handle.\n",
    "#                                 즉, ImageDataBunch를 통해 데이터를 빨리 생성하고 모델 Training을 하고 싶다면, ImageDataBunch.from_folder라는 형식을 사용하는 것이 좋다는 의미!\n",
    "# Fastai의 ImageDataBunch 함수 :: ImageDataBunch.from_folder 함수의 Hyper-Parameter 설명\n",
    "#       path      : 경로 지정\n",
    "#       Train     : 'path'를 통해 지정된 경로의 하위 Train dataset의 폴더명 지정\n",
    "#       Valid     : 'path'를 통해 지정된 경로의 하위 Valid dataset의 폴더명 지정\n",
    "#       Test      : 'path'를 통해 지정된 경로의 하위 Test dataset의 폴더명 지정\n",
    "#       ds_tfms   : 데이터셋 변형 형식 지정\n",
    "#       bs        : 배치사이즈 지정\n",
    "# data = ImageDataBunch.from_folder(path, train=\"train\", valid=\"valid\", test=\"test\", ds_tfms=tfms, bs=16)\n",
    "data = ImageDataBunch.from_folder(path, test=\"test\", ds_tfms=tfms, bs=16)\n",
    "data\n",
    "\n",
    "\n",
    "\n",
    "# (+) Fastai Library 설명   ::   https://www.lhsz.xyz/read/fastai-1.x-en/9eaf33da32ab238a.md\n",
    "\n",
    "# (+) LabelList가 Train, Valid, Test로 생성된 것을 확인할 수 있다."
   ]
  },
  {
   "cell_type": "markdown",
   "metadata": {},
   "source": [
    "### Model Training"
   ]
  },
  {
   "cell_type": "code",
   "execution_count": 22,
   "metadata": {
    "id": "AlIQNdEYonSz"
   },
   "outputs": [],
   "source": [
    "# learn.model\n",
    "learn = cnn_learner(data, models.resnet34, metrics=error_rate)"
   ]
  },
  {
   "cell_type": "code",
   "execution_count": 23,
   "metadata": {
    "colab": {
     "base_uri": "https://localhost:8080/",
     "height": 206
    },
    "id": "aWWv5r9ronND",
    "outputId": "2f2d0874-6a34-4b9e-d1fe-9836cdb31001"
   },
   "outputs": [
    {
     "data": {
      "text/html": [
       "\n",
       "<style>\n",
       "    /* Turns off some styling */\n",
       "    progress {\n",
       "        /* gets rid of default border in Firefox and Opera. */\n",
       "        border: none;\n",
       "        /* Needs to be in here for Safari polyfill so background images work as expected. */\n",
       "        background-size: auto;\n",
       "    }\n",
       "    .progress-bar-interrupted, .progress-bar-interrupted::-webkit-progress-bar {\n",
       "        background: #F44336;\n",
       "    }\n",
       "</style>\n"
      ],
      "text/plain": [
       "<IPython.core.display.HTML object>"
      ]
     },
     "metadata": {},
     "output_type": "display_data"
    },
    {
     "data": {
      "text/html": [
       "<table border=\"1\" class=\"dataframe\">\n",
       "  <thead>\n",
       "    <tr style=\"text-align: left;\">\n",
       "      <th>epoch</th>\n",
       "      <th>train_loss</th>\n",
       "      <th>valid_loss</th>\n",
       "      <th>error_rate</th>\n",
       "      <th>time</th>\n",
       "    </tr>\n",
       "  </thead>\n",
       "  <tbody>\n",
       "    <tr>\n",
       "      <td>0</td>\n",
       "      <td>0.641238</td>\n",
       "      <td>0.267046</td>\n",
       "      <td>0.080769</td>\n",
       "      <td>01:23</td>\n",
       "    </tr>\n",
       "    <tr>\n",
       "      <td>1</td>\n",
       "      <td>0.520838</td>\n",
       "      <td>0.406387</td>\n",
       "      <td>0.130769</td>\n",
       "      <td>01:22</td>\n",
       "    </tr>\n",
       "    <tr>\n",
       "      <td>2</td>\n",
       "      <td>0.535828</td>\n",
       "      <td>0.774689</td>\n",
       "      <td>0.153846</td>\n",
       "      <td>01:21</td>\n",
       "    </tr>\n",
       "    <tr>\n",
       "      <td>3</td>\n",
       "      <td>0.594523</td>\n",
       "      <td>0.251400</td>\n",
       "      <td>0.092308</td>\n",
       "      <td>01:20</td>\n",
       "    </tr>\n",
       "    <tr>\n",
       "      <td>4</td>\n",
       "      <td>0.554452</td>\n",
       "      <td>0.327242</td>\n",
       "      <td>0.100000</td>\n",
       "      <td>01:23</td>\n",
       "    </tr>\n",
       "    <tr>\n",
       "      <td>5</td>\n",
       "      <td>0.541785</td>\n",
       "      <td>0.221818</td>\n",
       "      <td>0.065385</td>\n",
       "      <td>01:19</td>\n",
       "    </tr>\n",
       "    <tr>\n",
       "      <td>6</td>\n",
       "      <td>0.423337</td>\n",
       "      <td>0.350584</td>\n",
       "      <td>0.126923</td>\n",
       "      <td>01:21</td>\n",
       "    </tr>\n",
       "    <tr>\n",
       "      <td>7</td>\n",
       "      <td>0.384242</td>\n",
       "      <td>0.197222</td>\n",
       "      <td>0.080769</td>\n",
       "      <td>01:21</td>\n",
       "    </tr>\n",
       "    <tr>\n",
       "      <td>8</td>\n",
       "      <td>0.364846</td>\n",
       "      <td>0.194756</td>\n",
       "      <td>0.046154</td>\n",
       "      <td>01:24</td>\n",
       "    </tr>\n",
       "    <tr>\n",
       "      <td>9</td>\n",
       "      <td>0.260186</td>\n",
       "      <td>0.153461</td>\n",
       "      <td>0.053846</td>\n",
       "      <td>01:20</td>\n",
       "    </tr>\n",
       "    <tr>\n",
       "      <td>10</td>\n",
       "      <td>0.286397</td>\n",
       "      <td>0.186753</td>\n",
       "      <td>0.065385</td>\n",
       "      <td>01:21</td>\n",
       "    </tr>\n",
       "    <tr>\n",
       "      <td>11</td>\n",
       "      <td>0.203945</td>\n",
       "      <td>0.100621</td>\n",
       "      <td>0.030769</td>\n",
       "      <td>01:20</td>\n",
       "    </tr>\n",
       "    <tr>\n",
       "      <td>12</td>\n",
       "      <td>0.152544</td>\n",
       "      <td>0.089165</td>\n",
       "      <td>0.030769</td>\n",
       "      <td>01:20</td>\n",
       "    </tr>\n",
       "    <tr>\n",
       "      <td>13</td>\n",
       "      <td>0.134978</td>\n",
       "      <td>0.086723</td>\n",
       "      <td>0.026923</td>\n",
       "      <td>01:20</td>\n",
       "    </tr>\n",
       "    <tr>\n",
       "      <td>14</td>\n",
       "      <td>0.112992</td>\n",
       "      <td>0.093902</td>\n",
       "      <td>0.030769</td>\n",
       "      <td>01:21</td>\n",
       "    </tr>\n",
       "  </tbody>\n",
       "</table>"
      ],
      "text/plain": [
       "<IPython.core.display.HTML object>"
      ]
     },
     "metadata": {},
     "output_type": "display_data"
    }
   ],
   "source": [
    "# 모델 학습시키기!\n",
    "learn.fit_one_cycle(15, max_lr=1e-02)"
   ]
  },
  {
   "cell_type": "markdown",
   "metadata": {},
   "source": [
    "### Train Result"
   ]
  },
  {
   "cell_type": "code",
   "execution_count": 24,
   "metadata": {
    "colab": {
     "base_uri": "https://localhost:8080/",
     "height": 583
    },
    "id": "UWmErwBNorU6",
    "outputId": "409e8508-d29c-4c5d-b68a-999a014e607a"
   },
   "outputs": [
    {
     "data": {
      "text/html": [
       "\n",
       "<style>\n",
       "    /* Turns off some styling */\n",
       "    progress {\n",
       "        /* gets rid of default border in Firefox and Opera. */\n",
       "        border: none;\n",
       "        /* Needs to be in here for Safari polyfill so background images work as expected. */\n",
       "        background-size: auto;\n",
       "    }\n",
       "    .progress-bar-interrupted, .progress-bar-interrupted::-webkit-progress-bar {\n",
       "        background: #F44336;\n",
       "    }\n",
       "</style>\n"
      ],
      "text/plain": [
       "<IPython.core.display.HTML object>"
      ]
     },
     "metadata": {},
     "output_type": "display_data"
    },
    {
     "data": {
      "text/html": [],
      "text/plain": [
       "<IPython.core.display.HTML object>"
      ]
     },
     "metadata": {},
     "output_type": "display_data"
    },
    {
     "data": {
      "image/png": "[encoded data removed]",
      "text/plain": [
       "<Figure size 560x560 with 1 Axes>"
      ]
     },
     "metadata": {
      "needs_background": "light"
     },
     "output_type": "display_data"
    }
   ],
   "source": [
    "interp = ClassificationInterpretation.from_learner(learn)\n",
    "interp.plot_confusion_matrix(figsize=(8,8), dpi=70)   # dpi\t= dots per inch = Matrix 한칸한칸의 크기 지정"
   ]
  },
  {
   "cell_type": "markdown",
   "metadata": {},
   "source": [
    "***"
   ]
  },
  {
   "cell_type": "markdown",
   "metadata": {
    "id": "yYONpNmfovB0"
   },
   "source": [
    "### Apply Model to Test Data"
   ]
  },
  {
   "cell_type": "code",
   "execution_count": 25,
   "metadata": {
    "colab": {
     "base_uri": "https://localhost:8080/",
     "height": 126
    },
    "id": "0tr4sSc2ov67",
    "outputId": "dad8e265-aa36-45db-fbdf-d48726e6649c"
   },
   "outputs": [
    {
     "data": {
      "text/html": [
       "\n",
       "<style>\n",
       "    /* Turns off some styling */\n",
       "    progress {\n",
       "        /* gets rid of default border in Firefox and Opera. */\n",
       "        border: none;\n",
       "        /* Needs to be in here for Safari polyfill so background images work as expected. */\n",
       "        background-size: auto;\n",
       "    }\n",
       "    .progress-bar-interrupted, .progress-bar-interrupted::-webkit-progress-bar {\n",
       "        background: #F44336;\n",
       "    }\n",
       "</style>\n"
      ],
      "text/plain": [
       "<IPython.core.display.HTML object>"
      ]
     },
     "metadata": {},
     "output_type": "display_data"
    },
    {
     "data": {
      "text/html": [],
      "text/plain": [
       "<IPython.core.display.HTML object>"
      ]
     },
     "metadata": {},
     "output_type": "display_data"
    },
    {
     "name": "stdout",
     "output_type": "stream",
     "text": [
      "torch.Size([10, 3])\n",
      "tensor([[6.0675e-01, 3.7148e-01, 2.1765e-02],\n",
      "        [7.5162e-01, 2.3913e-01, 9.2442e-03],\n",
      "        [9.8742e-01, 1.2263e-02, 3.2014e-04],\n",
      "        [1.7267e-02, 9.6661e-01, 1.6120e-02],\n",
      "        [3.8980e-03, 9.9020e-01, 5.9025e-03],\n",
      "        [1.1618e-01, 1.6239e-06, 8.8382e-01],\n",
      "        [1.3377e-04, 2.7481e-04, 9.9959e-01],\n",
      "        [1.0566e-02, 4.2918e-06, 9.8943e-01],\n",
      "        [2.6577e-03, 1.5584e-04, 9.9719e-01],\n",
      "        [2.6026e-02, 3.1852e-04, 9.7366e-01]])\n"
     ]
    }
   ],
   "source": [
    "# Testset 예측 결과 확인해보기 - get_preds 함수 이용!\n",
    "preds = learn.get_preds(ds_type=DatasetType.Test)   # ds_type 에 지정해준 데이터에 대한 예측 결과를 반환.\n",
    "print(preds[0].shape)\n",
    "print(preds[0])"
   ]
  },
  {
   "cell_type": "code",
   "execution_count": 26,
   "metadata": {
    "colab": {
     "base_uri": "https://localhost:8080/"
    },
    "id": "tIkyVbIRoz85",
    "outputId": "5fccd2c1-587e-4912-e14c-32303f7d736d"
   },
   "outputs": [
    {
     "data": {
      "text/plain": [
       "array([0, 0, 0, 1, 1, 2, 2, 2, 2, 2], dtype=int64)"
      ]
     },
     "execution_count": 26,
     "metadata": {},
     "output_type": "execute_result"
    }
   ],
   "source": [
    "max_idxs = np.argmax(preds[0],axis=1)\n",
    "max_idxs = np.asarray(max_idxs)\n",
    "max_idxs"
   ]
  },
  {
   "cell_type": "code",
   "execution_count": 27,
   "metadata": {
    "colab": {
     "base_uri": "https://localhost:8080/"
    },
    "id": "mZmwiiXwoz6_",
    "outputId": "d763029b-e015-4651-a167-a96481b3bd77"
   },
   "outputs": [
    {
     "name": "stdout",
     "output_type": "stream",
     "text": [
      "['cardboard', 'cardboard', 'cardboard', 'metal', 'metal', 'plastic', 'plastic', 'plastic', 'plastic', 'plastic']\n"
     ]
    }
   ],
   "source": [
    "# 부여된 번호를 토대로 class의 이름을 부여\n",
    "yhat = []\n",
    "for max_idx in max_idxs:\n",
    "    yhat.append(data.classes[max_idx])\n",
    "print(yhat)"
   ]
  },
  {
   "cell_type": "code",
   "execution_count": 28,
   "metadata": {
    "colab": {
     "base_uri": "https://localhost:8080/",
     "height": 401
    },
    "id": "Uu9FUP7Zoz4_",
    "outputId": "711ed09a-4ed1-4b2e-e470-d48ac261655a"
   },
   "outputs": [
    {
     "data": {
      "image/jpeg": "[encoded data removed]",
      "image/png": "[encoded data removed]",
      "text/plain": [
       "Image (3, 384, 512)"
      ]
     },
     "execution_count": 28,
     "metadata": {},
     "output_type": "execute_result"
    }
   ],
   "source": [
    "# 첫번째 test 데이터의 이미지 확인 :: 첫번째 인덱스는 image번호, 두번째 인덱스는 [0]일때 이미지 출력, [1]일때 class 출력\n",
    "learn.data.test_ds[0][0]"
   ]
  },
  {
   "cell_type": "code",
   "execution_count": 29,
   "metadata": {
    "colab": {
     "base_uri": "https://localhost:8080/"
    },
    "id": "YuM-49RBoz3E",
    "outputId": "13b5c7cc-90e1-4f2b-e1f8-ae7df66cf017"
   },
   "outputs": [
    {
     "data": {
      "text/plain": [
       "['C:\\\\Users\\\\sehye\\\\source\\\\repos\\\\GitHub_DeskTop\\\\2022-1_DTA_Garbage_Classification\\\\2. Three_Class_Garbage_Classification\\\\data\\\\test\\\\cardboard1.jpg',\n",
       " 'C:\\\\Users\\\\sehye\\\\source\\\\repos\\\\GitHub_DeskTop\\\\2022-1_DTA_Garbage_Classification\\\\2. Three_Class_Garbage_Classification\\\\data\\\\test\\\\cardboard2.jpg',\n",
       " 'C:\\\\Users\\\\sehye\\\\source\\\\repos\\\\GitHub_DeskTop\\\\2022-1_DTA_Garbage_Classification\\\\2. Three_Class_Garbage_Classification\\\\data\\\\test\\\\cardboard3.jpg',\n",
       " 'C:\\\\Users\\\\sehye\\\\source\\\\repos\\\\GitHub_DeskTop\\\\2022-1_DTA_Garbage_Classification\\\\2. Three_Class_Garbage_Classification\\\\data\\\\test\\\\metal1.jpg',\n",
       " 'C:\\\\Users\\\\sehye\\\\source\\\\repos\\\\GitHub_DeskTop\\\\2022-1_DTA_Garbage_Classification\\\\2. Three_Class_Garbage_Classification\\\\data\\\\test\\\\metal2.jpg',\n",
       " 'C:\\\\Users\\\\sehye\\\\source\\\\repos\\\\GitHub_DeskTop\\\\2022-1_DTA_Garbage_Classification\\\\2. Three_Class_Garbage_Classification\\\\data\\\\test\\\\plastic1.jpg',\n",
       " 'C:\\\\Users\\\\sehye\\\\source\\\\repos\\\\GitHub_DeskTop\\\\2022-1_DTA_Garbage_Classification\\\\2. Three_Class_Garbage_Classification\\\\data\\\\test\\\\plastic2.jpg',\n",
       " 'C:\\\\Users\\\\sehye\\\\source\\\\repos\\\\GitHub_DeskTop\\\\2022-1_DTA_Garbage_Classification\\\\2. Three_Class_Garbage_Classification\\\\data\\\\test\\\\plastic3.jpg',\n",
       " 'C:\\\\Users\\\\sehye\\\\source\\\\repos\\\\GitHub_DeskTop\\\\2022-1_DTA_Garbage_Classification\\\\2. Three_Class_Garbage_Classification\\\\data\\\\test\\\\plastic4.jpg',\n",
       " 'C:\\\\Users\\\\sehye\\\\source\\\\repos\\\\GitHub_DeskTop\\\\2022-1_DTA_Garbage_Classification\\\\2. Three_Class_Garbage_Classification\\\\data\\\\test\\\\plastic5.jpg']"
      ]
     },
     "execution_count": 29,
     "metadata": {},
     "output_type": "execute_result"
    }
   ],
   "source": [
    "y = []\n",
    "\n",
    "# 각 이미지 파일의 경로를 저장\n",
    "for label_path in learn.data.test_ds.items:\n",
    "    y.append(str(label_path))\n",
    "\n",
    "y"
   ]
  },
  {
   "cell_type": "code",
   "execution_count": 30,
   "metadata": {
    "colab": {
     "base_uri": "https://localhost:8080/"
    },
    "id": "brjE6x7hMQbG",
    "outputId": "6db12b7f-8608-47cb-b170-d501d44c1f2f"
   },
   "outputs": [
    {
     "name": "stdout",
     "output_type": "stream",
     "text": [
      "['cardboard', 'cardboard', 'cardboard', 'metal', 'metal', 'plastic', 'plastic', 'plastic', 'plastic', 'plastic']\n"
     ]
    }
   ],
   "source": [
    "# 파일 이름을 통해 정답값을 추출.\n",
    "pattern = re.compile(\"([a-z]+)([0-9]+)\")   # 메타 문자로 패턴 입력\n",
    "for i in range(len(y)):\n",
    "    y[i] = pattern.search(y[i]).group(1)\n",
    "    \n",
    "print(y)"
   ]
  },
  {
   "cell_type": "markdown",
   "metadata": {},
   "source": [
    "### Test Data Result"
   ]
  },
  {
   "cell_type": "code",
   "execution_count": 31,
   "metadata": {
    "colab": {
     "base_uri": "https://localhost:8080/"
    },
    "id": "ZPgCmevfoz1O",
    "outputId": "698861f5-488e-4c64-91b9-56992a4c7a6f"
   },
   "outputs": [
    {
     "name": "stdout",
     "output_type": "stream",
     "text": [
      "['cardboard', 'cardboard', 'cardboard', 'metal', 'metal']\n",
      "['cardboard', 'cardboard', 'cardboard', 'metal', 'metal']\n"
     ]
    }
   ],
   "source": [
    "# 예측값\n",
    "print(yhat[0:5])\n",
    "# 실제값\n",
    "print(y[0:5])"
   ]
  },
  {
   "cell_type": "code",
   "execution_count": 32,
   "metadata": {
    "colab": {
     "base_uri": "https://localhost:8080/",
     "height": 560
    },
    "id": "VhmHz9Sho4yY",
    "outputId": "e128a91f-5ded-4dc5-8708-321ee7b8da7b",
    "scrolled": false
   },
   "outputs": [
    {
     "name": "stdout",
     "output_type": "stream",
     "text": [
      "[[3 0 0]\n",
      " [0 2 0]\n",
      " [0 0 5]]\n"
     ]
    },
    {
     "data": {
      "text/plain": [
       "<AxesSubplot:>"
      ]
     },
     "execution_count": 32,
     "metadata": {},
     "output_type": "execute_result"
    },
    {
     "data": {
      "image/png": "[encoded data removed]",
      "text/plain": [
       "<Figure size 576x576 with 2 Axes>"
      ]
     },
     "metadata": {
      "needs_background": "light"
     },
     "output_type": "display_data"
    }
   ],
   "source": [
    "from sklearn.metrics import confusion_matrix\n",
    "cm = confusion_matrix(y, yhat)\n",
    "print(cm)\n",
    "\n",
    "import seaborn as sns\n",
    "df_cm = pd.DataFrame(cm, waste_types, waste_types)\n",
    "\n",
    "plt.figure(figsize=(8,8))\n",
    "sns.heatmap(df_cm, annot=True, fmt=\"d\", cmap=\"YlGnBu\")"
   ]
  },
  {
   "cell_type": "code",
   "execution_count": 33,
   "metadata": {
    "colab": {
     "base_uri": "https://localhost:8080/"
    },
    "id": "jWn6Rktpo4wr",
    "outputId": "19348b9c-ada4-414e-a471-841d74e783a4"
   },
   "outputs": [
    {
     "data": {
      "text/plain": [
       "1.0"
      ]
     },
     "execution_count": 33,
     "metadata": {},
     "output_type": "execute_result"
    }
   ],
   "source": [
    "correct = 0\n",
    "\n",
    "for i in range(len(yhat)) :\n",
    "    if y[i] == yhat[i] :\n",
    "        correct += 1\n",
    "\n",
    "accuracy = correct / len(yhat)\n",
    "accuracy"
   ]
  },
  {
   "cell_type": "markdown",
   "metadata": {},
   "source": [
    "### Model Save"
   ]
  },
  {
   "cell_type": "code",
   "execution_count": 34,
   "metadata": {
    "colab": {
     "base_uri": "https://localhost:8080/",
     "height": 324
    },
    "id": "kUfYTo1ZYgQB",
    "outputId": "ae91c175-cd4c-4ca8-b87c-e959043fd523"
   },
   "outputs": [
    {
     "data": {
      "text/plain": [
       "WindowsPath('C:/Users/sehye/source/repos/GitHub_DeskTop/2022-1_DTA_Garbage_Classification/2. Three_Class_Garbage_Classification/data/models/garbage_classification_model.pth')"
      ]
     },
     "execution_count": 34,
     "metadata": {},
     "output_type": "execute_result"
    }
   ],
   "source": [
    "# 모델 이름 정의\n",
    "model_file_name = 'garbage_classification_model'\n",
    "    \n",
    "# 모델 저장\n",
    "learn.save(model_file_name, path)\n",
    "\n",
    "# 모델 로드\n",
    "# learn.load(model_file_name)"
   ]
  },
  {
   "cell_type": "markdown",
   "metadata": {},
   "source": [
    "***"
   ]
  }
 ],
 "metadata": {
  "accelerator": "GPU",
  "colab": {
   "collapsed_sections": [],
   "name": "alpacaV2_TEST.ipynb",
   "provenance": []
  },
  "kernelspec": {
   "display_name": "Python 3 (ipykernel)",
   "language": "python",
   "name": "python3"
  },
  "language_info": {
   "codemirror_mode": {
    "name": "ipython",
    "version": 3
   },
   "file_extension": ".py",
   "mimetype": "text/x-python",
   "name": "python",
   "nbconvert_exporter": "python",
   "pygments_lexer": "ipython3",
   "version": "3.9.7"
  }
 },
 "nbformat": 4,
 "nbformat_minor": 1
}
